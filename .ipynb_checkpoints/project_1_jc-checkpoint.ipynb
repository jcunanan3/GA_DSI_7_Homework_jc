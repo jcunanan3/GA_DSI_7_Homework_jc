{
 "cells": [
  {
   "cell_type": "code",
   "execution_count": null,
   "metadata": {
    "collapsed": true
   },
   "outputs": [],
   "source": []
  },
  {
   "cell_type": "code",
   "execution_count": 4,
   "metadata": {},
   "outputs": [
    {
     "name": "stdout",
     "output_type": "stream",
     "text": [
      "['reddit.com', 'amazon.com']\n"
     ]
    }
   ],
   "source": [
    "from pprint import pprint\n",
    "player_id=1\n",
    "player_name=\"\"\n",
    "time_played=0.0\n",
    "player_pokemon={}\n",
    "gyms_visited=[]\n",
    "gym_locations=['reddit.com','amazon.com','twitter.com','linkedin.com','ebay.com','netflix.com','udacity.com','stackoverflow.com','github.com','quora.com']\n",
    "gyms_visited.append(gym_locations[0]) \n",
    "gyms_visited.append(gym_locations[1]) \n",
    "print(gyms_visited)"
   ]
  },
  {
   "cell_type": "code",
   "execution_count": null,
   "metadata": {
    "collapsed": true
   },
   "outputs": [],
   "source": []
  }
 ],
 "metadata": {
  "kernelspec": {
   "display_name": "Python 2",
   "language": "python",
   "name": "python2"
  },
  "language_info": {
   "codemirror_mode": {
    "name": "ipython",
    "version": 2
   },
   "file_extension": ".py",
   "mimetype": "text/x-python",
   "name": "python",
   "nbconvert_exporter": "python",
   "pygments_lexer": "ipython2",
   "version": "2.7.13"
  }
 },
 "nbformat": 4,
 "nbformat_minor": 2
}
